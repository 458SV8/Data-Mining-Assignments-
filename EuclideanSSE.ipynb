{
 "cells": [
  {
   "cell_type": "code",
   "execution_count": 1,
   "metadata": {},
   "outputs": [
    {
     "name": "stdout",
     "output_type": "stream",
     "text": [
      "Euclidean SSE: 25532057041.0\n"
     ]
    }
   ],
   "source": [
    "import numpy as np\n",
    "import pandas as pd\n",
    "from sklearn.metrics.pairwise import cosine_similarity\n",
    "\n",
    "data = pd.read_csv('data.csv', header=None).values\n",
    "labels = pd.read_csv('label.csv', header=None).values.flatten()\n",
    "\n",
    "def euclidean_distance(x1, x2):\n",
    "    return np.sqrt(np.sum((x1 - x2)**2))\n",
    "\n",
    "def kmeans(X, K, distance_fn, max_iters=100):\n",
    "    n_samples, n_features = X.shape\n",
    "    centroids = X[np.random.choice(n_samples, K, replace=False)]\n",
    "    for _ in range(max_iters):\n",
    "        clusters = [[] for _ in range(K)]\n",
    "        for i, x in enumerate(X):\n",
    "            distances = [distance_fn(x, centroid) for centroid in centroids]\n",
    "            cluster_idx = np.argmin(distances)\n",
    "            clusters[cluster_idx].append(i)\n",
    "        new_centroids = np.zeros_like(centroids)\n",
    "        for idx, cluster in enumerate(clusters):\n",
    "            if cluster:  # Avoid empty clusters\n",
    "                new_centroids[idx] = np.mean(X[cluster], axis=0)\n",
    "            else:\n",
    "                new_centroids[idx] = X[np.random.choice(n_samples)]\n",
    "        if np.allclose(centroids, new_centroids):\n",
    "            break\n",
    "        centroids = new_centroids\n",
    "    return clusters, centroids\n",
    "\n",
    "def compute_sse(X, clusters, centroids, distance_fn):\n",
    "    sse = 0\n",
    "    for cluster_idx, cluster in enumerate(clusters):\n",
    "        for sample_idx in cluster:\n",
    "            sse += distance_fn(X[sample_idx], centroids[cluster_idx])**2\n",
    "    return sse\n",
    "\n",
    "K = len(np.unique(labels))\n",
    "\n",
    "metrics = {\n",
    "    \"Euclidean\": euclidean_distance\n",
    "    }\n",
    "\n",
    "sse_results = {}\n",
    "for name, metric in metrics.items():\n",
    "    clusters, centroids = kmeans(data, K, metric)\n",
    "    sse = compute_sse(data, clusters, centroids, metric)\n",
    "    sse_results[name] = sse\n",
    "    print(f\"{name} SSE: {sse}\")\n",
    "\n",
    "\n"
   ]
  }
 ],
 "metadata": {
  "kernelspec": {
   "display_name": "base",
   "language": "python",
   "name": "python3"
  },
  "language_info": {
   "codemirror_mode": {
    "name": "ipython",
    "version": 3
   },
   "file_extension": ".py",
   "mimetype": "text/x-python",
   "name": "python",
   "nbconvert_exporter": "python",
   "pygments_lexer": "ipython3",
   "version": "3.9.13"
  }
 },
 "nbformat": 4,
 "nbformat_minor": 2
}
