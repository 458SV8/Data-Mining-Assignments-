{
 "cells": [
  {
   "cell_type": "code",
   "execution_count": 1,
   "metadata": {},
   "outputs": [
    {
     "name": "stdout",
     "output_type": "stream",
     "text": [
      "SSE with Euclidean distance: 5219.103325530017\n",
      "SSE with Cosine similarity: 1030.683247360933\n",
      "SSE with Generalized Jaccard similarity: 4543.85763272726\n"
     ]
    }
   ],
   "source": [
    "import numpy as np\n",
    "import pandas as pd\n",
    "from sklearn.preprocessing import normalize\n",
    "\n",
    "data = pd.read_csv(\"data.csv\")\n",
    "data = data.values\n",
    "\n",
    "def euclidean_distance(a, b):\n",
    "    return np.linalg.norm(a - b)\n",
    "\n",
    "def cosine_similarity(a, b):\n",
    "    return 1 - (np.dot(a, b) / (np.linalg.norm(a) * np.linalg.norm(b)))\n",
    "\n",
    "def generalized_jaccard_similarity(a, b):\n",
    "    return 1 - (np.sum(np.minimum(a, b)) / np.sum(np.maximum(a, b)))\n",
    "\n",
    "class KMeans:\n",
    "    def __init__(self, n_clusters, max_iter=100, distance_func=euclidean_distance):\n",
    "        self.n_clusters = n_clusters\n",
    "        self.max_iter = max_iter\n",
    "        self.distance_func = distance_func\n",
    "\n",
    "    def fit(self, X):\n",
    "        np.random.seed(42)\n",
    "        self.centroids = X[np.random.choice(range(X.shape[0]), self.n_clusters, replace=False)]\n",
    "        \n",
    "        for i in range(self.max_iter):\n",
    "            self.labels = np.array([self._assign_cluster(x) for x in X])\n",
    "            new_centroids = np.array([X[self.labels == k].mean(axis=0) for k in range(self.n_clusters)])\n",
    "\n",
    "            self.centroids = new_centroids\n",
    "\n",
    "    def _assign_cluster(self, x):\n",
    "        distances = [self.distance_func(x, centroid) for centroid in self.centroids]\n",
    "        return np.argmin(distances)\n",
    "\n",
    "    def sse(self, X):\n",
    "        return np.sum([self.distance_func(x, self.centroids[label]) ** 2 for x, label in zip(X, self.labels)])\n",
    "\n",
    "data = normalize(data)\n",
    "\n",
    "n_clusters = 3\n",
    "\n",
    "kmeans_euclidean = KMeans(n_clusters=n_clusters, max_iter=100, distance_func=euclidean_distance)\n",
    "kmeans_euclidean.fit(data)\n",
    "sse_euclidean = kmeans_euclidean.sse(data)\n",
    "\n",
    "kmeans_cosine = KMeans(n_clusters=n_clusters, max_iter=100, distance_func=cosine_similarity)\n",
    "kmeans_cosine.fit(data)\n",
    "sse_cosine = kmeans_cosine.sse(data)\n",
    "\n",
    "kmeans_jaccard = KMeans(n_clusters=n_clusters, max_iter=100, distance_func=generalized_jaccard_similarity)\n",
    "kmeans_jaccard.fit(data)\n",
    "sse_jaccard = kmeans_jaccard.sse(data)\n",
    "\n",
    "print(f\"SSE with Euclidean distance: {sse_euclidean}\")\n",
    "print(f\"SSE with Cosine similarity: {sse_cosine}\")\n",
    "print(f\"SSE with Generalized Jaccard similarity: {sse_jaccard}\")\n",
    "\n"
   ]
  }
 ],
 "metadata": {
  "kernelspec": {
   "display_name": "base",
   "language": "python",
   "name": "python3"
  },
  "language_info": {
   "codemirror_mode": {
    "name": "ipython",
    "version": 3
   },
   "file_extension": ".py",
   "mimetype": "text/x-python",
   "name": "python",
   "nbconvert_exporter": "python",
   "pygments_lexer": "ipython3",
   "version": "3.9.13"
  }
 },
 "nbformat": 4,
 "nbformat_minor": 2
}
